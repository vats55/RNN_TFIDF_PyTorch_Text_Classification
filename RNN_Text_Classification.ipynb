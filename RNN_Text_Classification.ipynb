{
  "nbformat": 4,
  "nbformat_minor": 0,
  "metadata": {
    "colab": {
      "name": "Vats55_Lab3.ipynb",
      "provenance": [],
      "collapsed_sections": []
    },
    "kernelspec": {
      "name": "python3",
      "display_name": "Python 3"
    }
  },
  "cells": [
    {
      "cell_type": "markdown",
      "metadata": {
        "id": "jX8R6y2tPzAp"
      },
      "source": [
        "# Import data from google drive to collab environment\n",
        "\n"
      ]
    },
    {
      "cell_type": "code",
      "metadata": {
        "id": "0_qaFDuZTefO",
        "outputId": "23883907-bd56-4516-82e3-1e0f64ca81dc",
        "colab": {
          "base_uri": "https://localhost:8080/"
        }
      },
      "source": [
        "from google.colab import files, drive \n",
        "drive.mount('/content/drive')"
      ],
      "execution_count": 1,
      "outputs": [
        {
          "output_type": "stream",
          "text": [
            "Mounted at /content/drive\n"
          ],
          "name": "stdout"
        }
      ]
    },
    {
      "cell_type": "code",
      "metadata": {
        "id": "tuX5x8mZTgi2"
      },
      "source": [
        "import pandas as pd\n",
        "import numpy as np\n",
        "import glob\n",
        "\n",
        "\n",
        "dataset_list=[]\n",
        "\n",
        "for i in ['pos', 'neg']: \n",
        "  given_data = glob.glob('/content/drive/My Drive/Review_Lab3/'+i)\n",
        "  dataset_list.append(given_data)"
      ],
      "execution_count": 2,
      "outputs": []
    },
    {
      "cell_type": "code",
      "metadata": {
        "id": "RqnZhZQva2yx",
        "outputId": "2454cda4-37ee-4bf8-c806-a098e7a3db51",
        "colab": {
          "base_uri": "https://localhost:8080/"
        }
      },
      "source": [
        "print(dataset_list)"
      ],
      "execution_count": 3,
      "outputs": [
        {
          "output_type": "stream",
          "text": [
            "[['/content/drive/My Drive/Review_Lab3/pos'], ['/content/drive/My Drive/Review_Lab3/neg']]\n"
          ],
          "name": "stdout"
        }
      ]
    },
    {
      "cell_type": "code",
      "metadata": {
        "id": "lMYrjHuecfOQ",
        "outputId": "dc2057d2-0389-4f9a-ec2b-0f52349574b4",
        "colab": {
          "base_uri": "https://localhost:8080/"
        }
      },
      "source": [
        "count=0\n",
        "pos_fnames=[]\n",
        "neg_fnames=[]\n",
        "pos_fnames_final=[]\n",
        "neg_fnames_final=[]\n",
        "for i in dataset_list: \n",
        "  if count==0:\n",
        "    file_names = glob.glob(i[0]+'/*.txt')\n",
        "    pos_fnames.append(file_names)\n",
        "    count+=1\n",
        "  if count==1: \n",
        "    file_names = glob.glob(i[0]+'/*.txt')\n",
        "    neg_fnames.append(file_names)\n",
        "\n",
        "count=0\n",
        "for fnames in pos_fnames[0]:\n",
        "  if count<500:  # change has to be made \n",
        "    pos_fnames_final.append(fnames)\n",
        "    count+=1\n",
        "  else: \n",
        "    break\n",
        "\n",
        "count=0\n",
        "for fnames in neg_fnames[0]:\n",
        "  if count<500: #change has to be made\n",
        "    neg_fnames_final.append(fnames)\n",
        "    count+=1\n",
        "  else: \n",
        "    break\n",
        "\n",
        "print(len(pos_fnames_final))\n",
        "print(len(neg_fnames_final))"
      ],
      "execution_count": 4,
      "outputs": [
        {
          "output_type": "stream",
          "text": [
            "500\n",
            "500\n"
          ],
          "name": "stdout"
        }
      ]
    },
    {
      "cell_type": "markdown",
      "metadata": {
        "id": "DgRZl0QUQMg_"
      },
      "source": [
        "# Store the data as a pandas df"
      ]
    },
    {
      "cell_type": "code",
      "metadata": {
        "id": "7s7S1yBZdcZa"
      },
      "source": [
        "empty_df = pd.DataFrame(columns = ['given_text_data']) #define empty pandas dataframe\n",
        "# instances from pos folder \n",
        "for path_txt_file in pos_fnames_final: \n",
        "  with open(path_txt_file) as f:\n",
        "    text = f.read().replace(\"\\n\", \"\")\n",
        "    \n",
        "  empty_df = empty_df.append({'given_text_data': text}, ignore_index=True)\n",
        "\n",
        "empty_df['label']='pos'\n",
        "\n",
        "#instances from neg folder \n",
        "for path_txt_file in neg_fnames_final: \n",
        "  with open(path_txt_file) as f:\n",
        "    text = f.read().replace(\"\\n\", \"\")\n",
        "    \n",
        "  empty_df = empty_df.append({'given_text_data': text, 'label': 'neg'}, ignore_index=True)"
      ],
      "execution_count": 5,
      "outputs": []
    },
    {
      "cell_type": "markdown",
      "metadata": {
        "id": "oHFA3qQgPdMN"
      },
      "source": [
        "# Binary classification problem, hence the labels"
      ]
    },
    {
      "cell_type": "code",
      "metadata": {
        "id": "kgcU-vQE8yXP",
        "outputId": "ce9ceea9-243c-492c-bfff-de9a4f27a506",
        "colab": {
          "base_uri": "https://localhost:8080/"
        }
      },
      "source": [
        "#pos label as 1 and neg label as 0\n",
        "sentiment_cat = {'pos':1, 'neg':0}\n",
        "empty_df['Class']=empty_df['label'].str.strip().map(sentiment_cat)\n",
        "\n",
        "text_data = empty_df.given_text_data.values\n",
        "class_data = empty_df.Class.values\n",
        "\n",
        "labels = []\n",
        "for elem in class_data: \n",
        "  if elem==1: \n",
        "    labels.append([1,0])\n",
        "  else: \n",
        "    labels.append([0,1])\n",
        "print(labels)"
      ],
      "execution_count": 6,
      "outputs": [
        {
          "output_type": "stream",
          "text": [
            "[[1, 0], [1, 0], [1, 0], [1, 0], [1, 0], [1, 0], [1, 0], [1, 0], [1, 0], [1, 0], [1, 0], [1, 0], [1, 0], [1, 0], [1, 0], [1, 0], [1, 0], [1, 0], [1, 0], [1, 0], [1, 0], [1, 0], [1, 0], [1, 0], [1, 0], [1, 0], [1, 0], [1, 0], [1, 0], [1, 0], [1, 0], [1, 0], [1, 0], [1, 0], [1, 0], [1, 0], [1, 0], [1, 0], [1, 0], [1, 0], [1, 0], [1, 0], [1, 0], [1, 0], [1, 0], [1, 0], [1, 0], [1, 0], [1, 0], [1, 0], [1, 0], [1, 0], [1, 0], [1, 0], [1, 0], [1, 0], [1, 0], [1, 0], [1, 0], [1, 0], [1, 0], [1, 0], [1, 0], [1, 0], [1, 0], [1, 0], [1, 0], [1, 0], [1, 0], [1, 0], [1, 0], [1, 0], [1, 0], [1, 0], [1, 0], [1, 0], [1, 0], [1, 0], [1, 0], [1, 0], [1, 0], [1, 0], [1, 0], [1, 0], [1, 0], [1, 0], [1, 0], [1, 0], [1, 0], [1, 0], [1, 0], [1, 0], [1, 0], [1, 0], [1, 0], [1, 0], [1, 0], [1, 0], [1, 0], [1, 0], [1, 0], [1, 0], [1, 0], [1, 0], [1, 0], [1, 0], [1, 0], [1, 0], [1, 0], [1, 0], [1, 0], [1, 0], [1, 0], [1, 0], [1, 0], [1, 0], [1, 0], [1, 0], [1, 0], [1, 0], [1, 0], [1, 0], [1, 0], [1, 0], [1, 0], [1, 0], [1, 0], [1, 0], [1, 0], [1, 0], [1, 0], [1, 0], [1, 0], [1, 0], [1, 0], [1, 0], [1, 0], [1, 0], [1, 0], [1, 0], [1, 0], [1, 0], [1, 0], [1, 0], [1, 0], [1, 0], [1, 0], [1, 0], [1, 0], [1, 0], [1, 0], [1, 0], [1, 0], [1, 0], [1, 0], [1, 0], [1, 0], [1, 0], [1, 0], [1, 0], [1, 0], [1, 0], [1, 0], [1, 0], [1, 0], [1, 0], [1, 0], [1, 0], [1, 0], [1, 0], [1, 0], [1, 0], [1, 0], [1, 0], [1, 0], [1, 0], [1, 0], [1, 0], [1, 0], [1, 0], [1, 0], [1, 0], [1, 0], [1, 0], [1, 0], [1, 0], [1, 0], [1, 0], [1, 0], [1, 0], [1, 0], [1, 0], [1, 0], [1, 0], [1, 0], [1, 0], [1, 0], [1, 0], [1, 0], [1, 0], [1, 0], [1, 0], [1, 0], [1, 0], [1, 0], [1, 0], [1, 0], [1, 0], [1, 0], [1, 0], [1, 0], [1, 0], [1, 0], [1, 0], [1, 0], [1, 0], [1, 0], [1, 0], [1, 0], [1, 0], [1, 0], [1, 0], [1, 0], [1, 0], [1, 0], [1, 0], [1, 0], [1, 0], [1, 0], [1, 0], [1, 0], [1, 0], [1, 0], [1, 0], [1, 0], [1, 0], [1, 0], [1, 0], [1, 0], [1, 0], [1, 0], [1, 0], [1, 0], [1, 0], [1, 0], [1, 0], [1, 0], [1, 0], [1, 0], [1, 0], [1, 0], [1, 0], [1, 0], [1, 0], [1, 0], [1, 0], [1, 0], [1, 0], [1, 0], [1, 0], [1, 0], [1, 0], [1, 0], [1, 0], [1, 0], [1, 0], [1, 0], [1, 0], [1, 0], [1, 0], [1, 0], [1, 0], [1, 0], [1, 0], [1, 0], [1, 0], [1, 0], [1, 0], [1, 0], [1, 0], [1, 0], [1, 0], [1, 0], [1, 0], [1, 0], [1, 0], [1, 0], [1, 0], [1, 0], [1, 0], [1, 0], [1, 0], [1, 0], [1, 0], [1, 0], [1, 0], [1, 0], [1, 0], [1, 0], [1, 0], [1, 0], [1, 0], [1, 0], [1, 0], [1, 0], [1, 0], [1, 0], [1, 0], [1, 0], [1, 0], [1, 0], [1, 0], [1, 0], [1, 0], [1, 0], [1, 0], [1, 0], [1, 0], [1, 0], [1, 0], [1, 0], [1, 0], [1, 0], [1, 0], [1, 0], [1, 0], [1, 0], [1, 0], [1, 0], [1, 0], [1, 0], [1, 0], [1, 0], [1, 0], [1, 0], [1, 0], [1, 0], [1, 0], [1, 0], [1, 0], [1, 0], [1, 0], [1, 0], [1, 0], [1, 0], [1, 0], [1, 0], [1, 0], [1, 0], [1, 0], [1, 0], [1, 0], [1, 0], [1, 0], [1, 0], [1, 0], [1, 0], [1, 0], [1, 0], [1, 0], [1, 0], [1, 0], [1, 0], [1, 0], [1, 0], [1, 0], [1, 0], [1, 0], [1, 0], [1, 0], [1, 0], [1, 0], [1, 0], [1, 0], [1, 0], [1, 0], [1, 0], [1, 0], [1, 0], [1, 0], [1, 0], [1, 0], [1, 0], [1, 0], [1, 0], [1, 0], [1, 0], [1, 0], [1, 0], [1, 0], [1, 0], [1, 0], [1, 0], [1, 0], [1, 0], [1, 0], [1, 0], [1, 0], [1, 0], [1, 0], [1, 0], [1, 0], [1, 0], [1, 0], [1, 0], [1, 0], [1, 0], [1, 0], [1, 0], [1, 0], [1, 0], [1, 0], [1, 0], [1, 0], [1, 0], [1, 0], [1, 0], [1, 0], [1, 0], [1, 0], [1, 0], [1, 0], [1, 0], [1, 0], [1, 0], [1, 0], [1, 0], [1, 0], [1, 0], [1, 0], [1, 0], [1, 0], [1, 0], [1, 0], [1, 0], [1, 0], [1, 0], [1, 0], [1, 0], [1, 0], [1, 0], [1, 0], [1, 0], [1, 0], [1, 0], [1, 0], [1, 0], [1, 0], [1, 0], [1, 0], [1, 0], [1, 0], [1, 0], [1, 0], [1, 0], [1, 0], [1, 0], [1, 0], [1, 0], [1, 0], [1, 0], [1, 0], [1, 0], [1, 0], [1, 0], [1, 0], [1, 0], [1, 0], [1, 0], [1, 0], [1, 0], [1, 0], [1, 0], [1, 0], [1, 0], [1, 0], [1, 0], [1, 0], [1, 0], [1, 0], [1, 0], [1, 0], [1, 0], [1, 0], [1, 0], [1, 0], [1, 0], [1, 0], [1, 0], [1, 0], [1, 0], [1, 0], [1, 0], [1, 0], [1, 0], [1, 0], [1, 0], [1, 0], [1, 0], [1, 0], [0, 1], [0, 1], [0, 1], [0, 1], [0, 1], [0, 1], [0, 1], [0, 1], [0, 1], [0, 1], [0, 1], [0, 1], [0, 1], [0, 1], [0, 1], [0, 1], [0, 1], [0, 1], [0, 1], [0, 1], [0, 1], [0, 1], [0, 1], [0, 1], [0, 1], [0, 1], [0, 1], [0, 1], [0, 1], [0, 1], [0, 1], [0, 1], [0, 1], [0, 1], [0, 1], [0, 1], [0, 1], [0, 1], [0, 1], [0, 1], [0, 1], [0, 1], [0, 1], [0, 1], [0, 1], [0, 1], [0, 1], [0, 1], [0, 1], [0, 1], [0, 1], [0, 1], [0, 1], [0, 1], [0, 1], [0, 1], [0, 1], [0, 1], [0, 1], [0, 1], [0, 1], [0, 1], [0, 1], [0, 1], [0, 1], [0, 1], [0, 1], [0, 1], [0, 1], [0, 1], [0, 1], [0, 1], [0, 1], [0, 1], [0, 1], [0, 1], [0, 1], [0, 1], [0, 1], [0, 1], [0, 1], [0, 1], [0, 1], [0, 1], [0, 1], [0, 1], [0, 1], [0, 1], [0, 1], [0, 1], [0, 1], [0, 1], [0, 1], [0, 1], [0, 1], [0, 1], [0, 1], [0, 1], [0, 1], [0, 1], [0, 1], [0, 1], [0, 1], [0, 1], [0, 1], [0, 1], [0, 1], [0, 1], [0, 1], [0, 1], [0, 1], [0, 1], [0, 1], [0, 1], [0, 1], [0, 1], [0, 1], [0, 1], [0, 1], [0, 1], [0, 1], [0, 1], [0, 1], [0, 1], [0, 1], [0, 1], [0, 1], [0, 1], [0, 1], [0, 1], [0, 1], [0, 1], [0, 1], [0, 1], [0, 1], [0, 1], [0, 1], [0, 1], [0, 1], [0, 1], [0, 1], [0, 1], [0, 1], [0, 1], [0, 1], [0, 1], [0, 1], [0, 1], [0, 1], [0, 1], [0, 1], [0, 1], [0, 1], [0, 1], [0, 1], [0, 1], [0, 1], [0, 1], [0, 1], [0, 1], [0, 1], [0, 1], [0, 1], [0, 1], [0, 1], [0, 1], [0, 1], [0, 1], [0, 1], [0, 1], [0, 1], [0, 1], [0, 1], [0, 1], [0, 1], [0, 1], [0, 1], [0, 1], [0, 1], [0, 1], [0, 1], [0, 1], [0, 1], [0, 1], [0, 1], [0, 1], [0, 1], [0, 1], [0, 1], [0, 1], [0, 1], [0, 1], [0, 1], [0, 1], [0, 1], [0, 1], [0, 1], [0, 1], [0, 1], [0, 1], [0, 1], [0, 1], [0, 1], [0, 1], [0, 1], [0, 1], [0, 1], [0, 1], [0, 1], [0, 1], [0, 1], [0, 1], [0, 1], [0, 1], [0, 1], [0, 1], [0, 1], [0, 1], [0, 1], [0, 1], [0, 1], [0, 1], [0, 1], [0, 1], [0, 1], [0, 1], [0, 1], [0, 1], [0, 1], [0, 1], [0, 1], [0, 1], [0, 1], [0, 1], [0, 1], [0, 1], [0, 1], [0, 1], [0, 1], [0, 1], [0, 1], [0, 1], [0, 1], [0, 1], [0, 1], [0, 1], [0, 1], [0, 1], [0, 1], [0, 1], [0, 1], [0, 1], [0, 1], [0, 1], [0, 1], [0, 1], [0, 1], [0, 1], [0, 1], [0, 1], [0, 1], [0, 1], [0, 1], [0, 1], [0, 1], [0, 1], [0, 1], [0, 1], [0, 1], [0, 1], [0, 1], [0, 1], [0, 1], [0, 1], [0, 1], [0, 1], [0, 1], [0, 1], [0, 1], [0, 1], [0, 1], [0, 1], [0, 1], [0, 1], [0, 1], [0, 1], [0, 1], [0, 1], [0, 1], [0, 1], [0, 1], [0, 1], [0, 1], [0, 1], [0, 1], [0, 1], [0, 1], [0, 1], [0, 1], [0, 1], [0, 1], [0, 1], [0, 1], [0, 1], [0, 1], [0, 1], [0, 1], [0, 1], [0, 1], [0, 1], [0, 1], [0, 1], [0, 1], [0, 1], [0, 1], [0, 1], [0, 1], [0, 1], [0, 1], [0, 1], [0, 1], [0, 1], [0, 1], [0, 1], [0, 1], [0, 1], [0, 1], [0, 1], [0, 1], [0, 1], [0, 1], [0, 1], [0, 1], [0, 1], [0, 1], [0, 1], [0, 1], [0, 1], [0, 1], [0, 1], [0, 1], [0, 1], [0, 1], [0, 1], [0, 1], [0, 1], [0, 1], [0, 1], [0, 1], [0, 1], [0, 1], [0, 1], [0, 1], [0, 1], [0, 1], [0, 1], [0, 1], [0, 1], [0, 1], [0, 1], [0, 1], [0, 1], [0, 1], [0, 1], [0, 1], [0, 1], [0, 1], [0, 1], [0, 1], [0, 1], [0, 1], [0, 1], [0, 1], [0, 1], [0, 1], [0, 1], [0, 1], [0, 1], [0, 1], [0, 1], [0, 1], [0, 1], [0, 1], [0, 1], [0, 1], [0, 1], [0, 1], [0, 1], [0, 1], [0, 1], [0, 1], [0, 1], [0, 1], [0, 1], [0, 1], [0, 1], [0, 1], [0, 1], [0, 1], [0, 1], [0, 1], [0, 1], [0, 1], [0, 1], [0, 1], [0, 1], [0, 1], [0, 1], [0, 1], [0, 1], [0, 1], [0, 1], [0, 1], [0, 1], [0, 1], [0, 1], [0, 1], [0, 1], [0, 1], [0, 1], [0, 1], [0, 1], [0, 1], [0, 1], [0, 1], [0, 1], [0, 1], [0, 1], [0, 1], [0, 1], [0, 1], [0, 1], [0, 1], [0, 1], [0, 1], [0, 1], [0, 1], [0, 1], [0, 1], [0, 1], [0, 1], [0, 1], [0, 1], [0, 1], [0, 1], [0, 1], [0, 1], [0, 1], [0, 1], [0, 1], [0, 1], [0, 1], [0, 1], [0, 1], [0, 1], [0, 1], [0, 1], [0, 1], [0, 1], [0, 1], [0, 1], [0, 1], [0, 1], [0, 1], [0, 1], [0, 1], [0, 1], [0, 1], [0, 1], [0, 1], [0, 1], [0, 1], [0, 1], [0, 1], [0, 1], [0, 1], [0, 1], [0, 1], [0, 1], [0, 1], [0, 1], [0, 1], [0, 1], [0, 1], [0, 1], [0, 1], [0, 1], [0, 1], [0, 1], [0, 1], [0, 1], [0, 1], [0, 1], [0, 1], [0, 1], [0, 1], [0, 1], [0, 1], [0, 1], [0, 1]]\n"
          ],
          "name": "stdout"
        }
      ]
    },
    {
      "cell_type": "markdown",
      "metadata": {
        "id": "UtLNhy3VQQJq"
      },
      "source": [
        "# Feature extraction using TF-IDF Vectorizer "
      ]
    },
    {
      "cell_type": "code",
      "metadata": {
        "id": "0dfvU89piaFg",
        "outputId": "de79ba96-c3e8-49d4-d320-72fc5ddb8bf6",
        "colab": {
          "base_uri": "https://localhost:8080/"
        }
      },
      "source": [
        "#TFIDF vectorizer\n",
        "from sklearn.feature_extraction.text import TfidfVectorizer\n",
        "\n",
        "vectorizer = TfidfVectorizer(stop_words='english', max_features=200) #200 top words \n",
        "instances = vectorizer.fit_transform(text_data)\n",
        "X = instances.toarray()\n",
        "Y = np.array(labels)\n",
        "\n",
        "print(X.shape,',', Y.shape)\n",
        "print(vectorizer.vocabulary_) "
      ],
      "execution_count": 7,
      "outputs": [
        {
          "output_type": "stream",
          "text": [
            "(1000, 200) , (1000, 2)\n",
            "{'films': 57, 'comic': 29, 'world': 195, 'really': 145, 'like': 100, 'new': 123, 'series': 161, 'say': 150, 'michael': 114, 'look': 105, 'little': 102, 'long': 104, 'don': 44, 'film': 56, 'thing': 173, 'getting': 66, 'better': 16, 'set': 162, 'course': 30, 'end': 46, 'place': 134, 'turns': 182, 'case': 21, 'isn': 90, 'think': 175, 'interesting': 89, 'good': 71, 'job': 93, 'funny': 63, 'watch': 188, 'point': 140, 'ending': 47, 'star': 168, 'll': 103, 'make': 109, 'sense': 159, 'dark': 31, 'did': 38, 'times': 177, 'music': 122, 'scenes': 152, 'black': 19, 'love': 108, 'original': 127, 'acting': 1, 'performance': 130, 'great': 73, 'big': 17, 'time': 176, 'actually': 5, 'half': 76, 'bad': 10, 'movie': 120, 'comes': 28, 'high': 81, 'school': 153, 'comedy': 27, 'know': 97, 'plot': 139, 'having': 79, 'hand': 77, 'way': 190, 'run': 149, 'going': 70, 'fact': 50, 'right': 147, 'help': 80, 'does': 42, 'makes': 110, 'play': 135, 'home': 83, 'gets': 65, 'life': 99, 'probably': 142, 'different': 40, 'performances': 131, 'playing': 137, 'role': 148, 'fun': 62, 'year': 197, 'money': 118, 'character': 23, 've': 184, 'seen': 158, 'story': 170, 'doesn': 43, 'lot': 107, 'takes': 172, 'got': 72, 'works': 194, 'cast': 22, 'stars': 169, 'screen': 155, 'real': 144, 'goes': 69, 'work': 193, 'woman': 192, 'quite': 143, 'come': 26, 'plays': 138, 'family': 51, 'nice': 124, 'soon': 166, 'small': 164, 'person': 132, 'true': 179, 'rest': 146, 'sure': 171, 'entire': 48, 'scene': 151, 'left': 98, 'shows': 163, 'alien': 6, 'john': 94, 'director': 41, 'beautiful': 12, 'away': 9, 'second': 157, 'bit': 18, 'town': 178, 'years': 198, 'want': 185, 'young': 199, 'perfect': 129, 'old': 126, 'men': 113, 'horror': 84, 'movies': 121, 'including': 87, 'instead': 88, 'audience': 8, 'effects': 45, 'actors': 4, 'just': 95, 'father': 53, 'american': 7, 'gives': 68, 'played': 136, 'war': 187, 'best': 15, 'feel': 54, 'hollywood': 82, 'special': 167, 'jackie': 91, 'line': 101, 'watching': 189, 'things': 174, 'characters': 24, 'sequence': 160, 'didn': 39, 'man': 112, 'death': 35, 'begins': 13, 'mind': 115, 'friend': 61, 'trying': 180, 'wife': 191, 'given': 67, 'actor': 3, 'people': 128, 'final': 58, 'kind': 96, 'hard': 78, 'believe': 14, 'making': 111, 'mother': 119, 'finds': 59, 'group': 74, 'looking': 106, 'minutes': 116, 'picture': 133, 'written': 196, 'moments': 117, 'far': 52, 'dead': 34, 'script': 156, 'action': 2, 'pretty': 141, 'especially': 49, 'night': 125, 'game': 64, 'use': 183, 'human': 86, 'hour': 85, 'based': 11, 'day': 33, 'despite': 36, 'fiction': 55, 'turn': 181, 'able': 0, 'wants': 186, 'guy': 75, 'david': 32, 'boy': 20, 'james': 92, 'son': 165, 'science': 154, 'dialogue': 37, 'fine': 60, 'classic': 25}\n"
          ],
          "name": "stdout"
        }
      ]
    },
    {
      "cell_type": "code",
      "metadata": {
        "id": "59aBz2qkO_rF",
        "outputId": "f53b2944-8289-4523-a863-867f703097b4",
        "colab": {
          "base_uri": "https://localhost:8080/"
        }
      },
      "source": [
        "print(vectorizer.idf_)"
      ],
      "execution_count": 8,
      "outputs": [
        {
          "output_type": "stream",
          "text": [
            "[2.72136897 2.48380476 2.32902495 2.55689665 2.41569334 2.277543\n",
            " 3.67464827 2.49265438 2.15618214 2.46633707 2.35192672 2.5955488\n",
            " 2.94591015 2.64606459 2.73260505 1.71231065 2.28473727 2.21502264\n",
            " 2.48380476 2.86532966 3.09657042 2.94591015 2.29928298 1.65300474\n",
            " 1.78845736 2.93202104 2.29928298 2.48380476 2.19502197 2.91832219\n",
            " 2.39130188 3.04894237 2.87831686 2.32902495 2.83985058 2.81500458\n",
            " 2.85250897 2.85250897 2.40749657 2.67764616 2.5857448  1.89503962\n",
            " 1.70419702 1.96071979 1.98717636 2.68839895 1.99795814 2.64606459\n",
            " 2.69926863 2.60544987 2.24927256 2.44916927 2.42395785 2.5857448\n",
            " 2.45771633 3.37615529 1.11193106 1.84264669 2.79076097 2.80280931\n",
            " 2.93202104 2.79076097 2.45771633 2.44069464 3.08044104 2.24232809\n",
            " 2.77885606 2.71025775 2.54746261 2.44069464 2.23543151 1.56487435\n",
            " 2.94591015 1.89503962 2.97428085 2.86532966 2.74396881 2.79076097\n",
            " 2.48380476 2.5955488  2.42395785 2.57603599 2.5857448  2.51968305\n",
            " 3.14658084 3.04894237 2.71025775 2.80280931 2.40749657 2.37536529\n",
            " 2.34423437 4.24519313 2.97428085 2.45771633 2.54746261 1.4774237\n",
            " 2.51968305 2.00885743 2.81500458 1.75389669 1.33089342 2.81500458\n",
            " 1.77535674 2.61544995 2.15618214 2.29198368 2.75546318 2.3140434\n",
            " 2.07102433 1.71639229 1.99795814 2.34423437 1.82425537 2.83985058\n",
            " 3.09657042 2.61544995 2.54746261 2.72136897 2.94591015 2.80280931\n",
            " 1.31160908 2.05368286 2.68839895 1.89016156 2.91832219 2.72136897\n",
            " 2.23543151 2.49265438 1.76242552 2.86532966 2.07102433 2.51968305\n",
            " 2.86532966 2.46633707 2.41569334 2.87831686 2.39936644 2.76709122\n",
            " 2.22858217 1.93494517 2.53811675 2.82735041 2.48380476 2.32902495\n",
            " 2.16255159 1.85666561 2.68839895 2.14985301 2.1066364  3.12963129\n",
            " 2.21502264 1.91979336 1.89016156 3.06456769 3.59126667 2.29928298\n",
            " 2.49265438 2.73260505 2.1066364  2.62555105 2.89147494 2.93202104\n",
            " 2.44916927 2.72136897 2.64606459 3.01840565 2.69926863 2.67764616\n",
            " 2.41569334 2.83985058 1.60796898 2.5955488  2.30663596 2.26330788\n",
            " 2.24232809 2.37536529 1.47100313 2.39130188 3.00348    2.67764616\n",
            " 2.69926863 2.76709122 2.71025775 2.76709122 2.24232809 2.5955488\n",
            " 2.72136897 3.11296423 2.57603599 2.63575522 1.72460589 2.51968305\n",
            " 2.74396881 1.97650959 2.65648135 2.08275467 2.79076097 2.20831121\n",
            " 2.07102433 2.29198368]\n"
          ],
          "name": "stdout"
        }
      ]
    },
    {
      "cell_type": "code",
      "metadata": {
        "id": "P6mRit30RyjY",
        "outputId": "69eb0812-008a-4356-eeaf-b1edcb1cfa46",
        "colab": {
          "base_uri": "https://localhost:8080/"
        }
      },
      "source": [
        "first_str = (text_data[0])\n",
        "print((first_str))\n",
        "string_split_words = (vectorizer.build_tokenizer())\n",
        "print((string_split_words(first_str)))"
      ],
      "execution_count": 9,
      "outputs": [
        {
          "output_type": "stream",
          "text": [
            "films adapted from comic books have had plenty of success , whether they're about superheroes ( batman , superman , spawn ) , or geared toward kids ( casper ) or the arthouse crowd ( ghost world ) , but there's never really been a comic book like from hell before . for starters , it was created by alan moore ( and eddie campbell ) , who brought the medium to a whole new level in the mid '80s with a 12-part series called the watchmen . to say moore and campbell thoroughly researched the subject of jack the ripper would be like saying michael jackson is starting to look a little odd . the book ( or \" graphic novel , \" if you will ) is over 500 pages long and includes nearly 30 more that consist of nothing but footnotes . in other words , don't dismiss this film because of its source . if you can get past the whole comic book thing , you might find another stumbling block in from hell's directors , albert and allen hughes . getting the hughes brothers to direct this seems almost as ludicrous as casting carrot top in , well , anything , but riddle me this : who better to direct a film that's set in the ghetto and features really violent street crime than the mad geniuses behind menace ii society ? the ghetto in question is , of course , whitechapel in 1888 london's east end . it's a filthy , sooty place where the whores ( called \" unfortunates \" ) are starting to get a little nervous about this mysterious psychopath who has been carving through their profession with surgical precision . when the first stiff turns up , copper peter godley ( robbie coltrane , the world is not enough ) calls in inspector frederick abberline ( johnny depp , blow ) to crack the case . abberline , a widower , has prophetic dreams he unsuccessfully tries to quell with copious amounts of absinthe and opium . upon arriving in whitechapel , he befriends an unfortunate named mary kelly ( heather graham , say it isn't so ) and proceeds to investigate the horribly gruesome crimes that even the police surgeon can't stomach . i don't think anyone needs to be briefed on jack the ripper , so i won't go into the particulars here , other than to say moore and campbell have a unique and interesting theory about both the identity of the killer and the reasons he chooses to slay . in the comic , they don't bother cloaking the identity of the ripper , but screenwriters terry hayes ( vertical limit ) and rafael yglesias ( les mis ? rables ) do a good job of keeping him hidden from viewers until the very end . it's funny to watch the locals blindly point the finger of blame at jews and indians because , after all , an englishman could never be capable of committing such ghastly acts . and from hell's ending had me whistling the stonecutters song from the simpsons for days ( \" who holds back the electric car/who made steve guttenberg a star ? \" ) . don't worry - it'll all make sense when you see it . now onto from hell's appearance : it's certainly dark and bleak enough , and it's surprising to see how much more it looks like a tim burton film than planet of the apes did ( at times , it seems like sleepy hollow 2 ) . the print i saw wasn't completely finished ( both color and music had not been finalized , so no comments about marilyn manson ) , but cinematographer peter deming ( don't say a word ) ably captures the dreariness of victorian-era london and helped make the flashy killing scenes remind me of the crazy flashbacks in twin peaks , even though the violence in the film pales in comparison to that in the black-and-white comic . oscar winner martin childs' ( shakespeare in love ) production design turns the original prague surroundings into one creepy place . even the acting in from hell is solid , with the dreamy depp turning in a typically strong performance and deftly handling a british accent . ians holm ( joe gould's secret ) and richardson ( 102 dalmatians ) log in great supporting roles , but the big surprise here is graham . i cringed the first time she opened her mouth , imagining her attempt at an irish accent , but it actually wasn't half bad . the film , however , is all good . 2 : 00 - r for strong violence/gore , sexuality , language and drug content \n",
            "['films', 'adapted', 'from', 'comic', 'books', 'have', 'had', 'plenty', 'of', 'success', 'whether', 'they', 're', 'about', 'superheroes', 'batman', 'superman', 'spawn', 'or', 'geared', 'toward', 'kids', 'casper', 'or', 'the', 'arthouse', 'crowd', 'ghost', 'world', 'but', 'there', 'never', 'really', 'been', 'comic', 'book', 'like', 'from', 'hell', 'before', 'for', 'starters', 'it', 'was', 'created', 'by', 'alan', 'moore', 'and', 'eddie', 'campbell', 'who', 'brought', 'the', 'medium', 'to', 'whole', 'new', 'level', 'in', 'the', 'mid', '80s', 'with', '12', 'part', 'series', 'called', 'the', 'watchmen', 'to', 'say', 'moore', 'and', 'campbell', 'thoroughly', 'researched', 'the', 'subject', 'of', 'jack', 'the', 'ripper', 'would', 'be', 'like', 'saying', 'michael', 'jackson', 'is', 'starting', 'to', 'look', 'little', 'odd', 'the', 'book', 'or', 'graphic', 'novel', 'if', 'you', 'will', 'is', 'over', '500', 'pages', 'long', 'and', 'includes', 'nearly', '30', 'more', 'that', 'consist', 'of', 'nothing', 'but', 'footnotes', 'in', 'other', 'words', 'don', 'dismiss', 'this', 'film', 'because', 'of', 'its', 'source', 'if', 'you', 'can', 'get', 'past', 'the', 'whole', 'comic', 'book', 'thing', 'you', 'might', 'find', 'another', 'stumbling', 'block', 'in', 'from', 'hell', 'directors', 'albert', 'and', 'allen', 'hughes', 'getting', 'the', 'hughes', 'brothers', 'to', 'direct', 'this', 'seems', 'almost', 'as', 'ludicrous', 'as', 'casting', 'carrot', 'top', 'in', 'well', 'anything', 'but', 'riddle', 'me', 'this', 'who', 'better', 'to', 'direct', 'film', 'that', 'set', 'in', 'the', 'ghetto', 'and', 'features', 'really', 'violent', 'street', 'crime', 'than', 'the', 'mad', 'geniuses', 'behind', 'menace', 'ii', 'society', 'the', 'ghetto', 'in', 'question', 'is', 'of', 'course', 'whitechapel', 'in', '1888', 'london', 'east', 'end', 'it', 'filthy', 'sooty', 'place', 'where', 'the', 'whores', 'called', 'unfortunates', 'are', 'starting', 'to', 'get', 'little', 'nervous', 'about', 'this', 'mysterious', 'psychopath', 'who', 'has', 'been', 'carving', 'through', 'their', 'profession', 'with', 'surgical', 'precision', 'when', 'the', 'first', 'stiff', 'turns', 'up', 'copper', 'peter', 'godley', 'robbie', 'coltrane', 'the', 'world', 'is', 'not', 'enough', 'calls', 'in', 'inspector', 'frederick', 'abberline', 'johnny', 'depp', 'blow', 'to', 'crack', 'the', 'case', 'abberline', 'widower', 'has', 'prophetic', 'dreams', 'he', 'unsuccessfully', 'tries', 'to', 'quell', 'with', 'copious', 'amounts', 'of', 'absinthe', 'and', 'opium', 'upon', 'arriving', 'in', 'whitechapel', 'he', 'befriends', 'an', 'unfortunate', 'named', 'mary', 'kelly', 'heather', 'graham', 'say', 'it', 'isn', 'so', 'and', 'proceeds', 'to', 'investigate', 'the', 'horribly', 'gruesome', 'crimes', 'that', 'even', 'the', 'police', 'surgeon', 'can', 'stomach', 'don', 'think', 'anyone', 'needs', 'to', 'be', 'briefed', 'on', 'jack', 'the', 'ripper', 'so', 'won', 'go', 'into', 'the', 'particulars', 'here', 'other', 'than', 'to', 'say', 'moore', 'and', 'campbell', 'have', 'unique', 'and', 'interesting', 'theory', 'about', 'both', 'the', 'identity', 'of', 'the', 'killer', 'and', 'the', 'reasons', 'he', 'chooses', 'to', 'slay', 'in', 'the', 'comic', 'they', 'don', 'bother', 'cloaking', 'the', 'identity', 'of', 'the', 'ripper', 'but', 'screenwriters', 'terry', 'hayes', 'vertical', 'limit', 'and', 'rafael', 'yglesias', 'les', 'mis', 'rables', 'do', 'good', 'job', 'of', 'keeping', 'him', 'hidden', 'from', 'viewers', 'until', 'the', 'very', 'end', 'it', 'funny', 'to', 'watch', 'the', 'locals', 'blindly', 'point', 'the', 'finger', 'of', 'blame', 'at', 'jews', 'and', 'indians', 'because', 'after', 'all', 'an', 'englishman', 'could', 'never', 'be', 'capable', 'of', 'committing', 'such', 'ghastly', 'acts', 'and', 'from', 'hell', 'ending', 'had', 'me', 'whistling', 'the', 'stonecutters', 'song', 'from', 'the', 'simpsons', 'for', 'days', 'who', 'holds', 'back', 'the', 'electric', 'car', 'who', 'made', 'steve', 'guttenberg', 'star', 'don', 'worry', 'it', 'll', 'all', 'make', 'sense', 'when', 'you', 'see', 'it', 'now', 'onto', 'from', 'hell', 'appearance', 'it', 'certainly', 'dark', 'and', 'bleak', 'enough', 'and', 'it', 'surprising', 'to', 'see', 'how', 'much', 'more', 'it', 'looks', 'like', 'tim', 'burton', 'film', 'than', 'planet', 'of', 'the', 'apes', 'did', 'at', 'times', 'it', 'seems', 'like', 'sleepy', 'hollow', 'the', 'print', 'saw', 'wasn', 'completely', 'finished', 'both', 'color', 'and', 'music', 'had', 'not', 'been', 'finalized', 'so', 'no', 'comments', 'about', 'marilyn', 'manson', 'but', 'cinematographer', 'peter', 'deming', 'don', 'say', 'word', 'ably', 'captures', 'the', 'dreariness', 'of', 'victorian', 'era', 'london', 'and', 'helped', 'make', 'the', 'flashy', 'killing', 'scenes', 'remind', 'me', 'of', 'the', 'crazy', 'flashbacks', 'in', 'twin', 'peaks', 'even', 'though', 'the', 'violence', 'in', 'the', 'film', 'pales', 'in', 'comparison', 'to', 'that', 'in', 'the', 'black', 'and', 'white', 'comic', 'oscar', 'winner', 'martin', 'childs', 'shakespeare', 'in', 'love', 'production', 'design', 'turns', 'the', 'original', 'prague', 'surroundings', 'into', 'one', 'creepy', 'place', 'even', 'the', 'acting', 'in', 'from', 'hell', 'is', 'solid', 'with', 'the', 'dreamy', 'depp', 'turning', 'in', 'typically', 'strong', 'performance', 'and', 'deftly', 'handling', 'british', 'accent', 'ians', 'holm', 'joe', 'gould', 'secret', 'and', 'richardson', '102', 'dalmatians', 'log', 'in', 'great', 'supporting', 'roles', 'but', 'the', 'big', 'surprise', 'here', 'is', 'graham', 'cringed', 'the', 'first', 'time', 'she', 'opened', 'her', 'mouth', 'imagining', 'her', 'attempt', 'at', 'an', 'irish', 'accent', 'but', 'it', 'actually', 'wasn', 'half', 'bad', 'the', 'film', 'however', 'is', 'all', 'good', '00', 'for', 'strong', 'violence', 'gore', 'sexuality', 'language', 'and', 'drug', 'content']\n"
          ],
          "name": "stdout"
        }
      ]
    },
    {
      "cell_type": "code",
      "metadata": {
        "id": "2LN2zr4zKXMj",
        "outputId": "f622d8c4-38fe-4e58-eaff-ec3cd067f676",
        "colab": {
          "base_uri": "https://localhost:8080/"
        }
      },
      "source": [
        "# now the task is that we have 200 sentences -> each sentence might be of varying length and hence we might need PADDING for shorter sentences to be equal to longest \n",
        "# within each sentence we now have equal words after padding, so next is to represent each word by the vocabulary size of 200 in our case\n",
        "# so one sentence, will have \"max_len\" words, where each word will be represented by a vector of 200 \n",
        "\n",
        "# first step is to deal with text_data \n",
        "review_words_list = []\n",
        "for review in text_data: \n",
        "  list_of_words = string_split_words(review)\n",
        "  review_words_list.append(list_of_words)\n",
        "\n",
        "print(len(review_words_list))"
      ],
      "execution_count": 10,
      "outputs": [
        {
          "output_type": "stream",
          "text": [
            "1000\n"
          ],
          "name": "stdout"
        }
      ]
    },
    {
      "cell_type": "markdown",
      "metadata": {
        "id": "quqbXq57QwQg"
      },
      "source": [
        "# Select only those words from given text data which are present in our vocab\n",
        "# Convert each doc into same length "
      ]
    },
    {
      "cell_type": "code",
      "metadata": {
        "id": "tDfDHUzrW7bW",
        "outputId": "6eab0ab0-e21d-4ef9-bc03-ede5d909a055",
        "colab": {
          "base_uri": "https://localhost:8080/"
        }
      },
      "source": [
        "# now we have each review split into words\n",
        "# now check if the word is present in our vocab of 200 words as defined above while computing TF-IDF\n",
        "tfidf_vocab = vectorizer.vocabulary_\n",
        "lengths = []\n",
        "new_review_words_list = []\n",
        "\n",
        "for elem in review_words_list: \n",
        "  words_considered=[]\n",
        "  for word in elem: \n",
        "    if word in tfidf_vocab: \n",
        "      words_considered.append(word)\n",
        "  lengths.append(len(words_considered))\n",
        "  new_review_words_list.append(words_considered)    \n",
        "print((lengths))\n",
        "longest_review = (max(lengths))"
      ],
      "execution_count": 11,
      "outputs": [
        {
          "output_type": "stream",
          "text": [
            "[78, 80, 63, 119, 81, 93, 127, 79, 23, 46, 77, 71, 31, 39, 131, 92, 50, 114, 80, 42, 51, 91, 70, 95, 92, 90, 60, 136, 98, 173, 74, 172, 95, 116, 66, 50, 36, 113, 46, 66, 87, 117, 101, 71, 99, 106, 101, 90, 75, 70, 38, 88, 28, 76, 66, 90, 43, 19, 19, 81, 101, 73, 136, 20, 97, 88, 46, 54, 117, 59, 61, 131, 63, 92, 200, 41, 181, 81, 76, 43, 45, 78, 41, 121, 88, 105, 111, 111, 68, 49, 45, 48, 80, 52, 50, 74, 87, 90, 74, 114, 101, 67, 99, 128, 70, 107, 58, 77, 30, 74, 151, 32, 110, 70, 33, 165, 119, 110, 113, 38, 112, 78, 125, 159, 78, 54, 69, 63, 59, 73, 61, 112, 39, 65, 134, 52, 97, 61, 79, 41, 94, 89, 66, 127, 57, 26, 228, 131, 80, 59, 43, 46, 51, 118, 62, 91, 47, 16, 114, 80, 74, 29, 173, 124, 63, 77, 98, 64, 62, 101, 37, 63, 55, 37, 71, 68, 61, 102, 108, 50, 86, 92, 78, 113, 42, 97, 78, 49, 57, 71, 82, 63, 66, 65, 64, 63, 77, 38, 41, 126, 40, 63, 86, 100, 58, 56, 101, 54, 123, 23, 77, 180, 51, 34, 62, 49, 66, 37, 68, 53, 54, 39, 43, 68, 99, 61, 74, 81, 78, 23, 44, 126, 112, 111, 83, 44, 86, 61, 58, 69, 133, 115, 27, 106, 56, 62, 83, 123, 74, 62, 94, 110, 127, 35, 89, 37, 209, 59, 92, 79, 55, 131, 104, 60, 57, 95, 74, 101, 67, 153, 26, 99, 45, 93, 165, 100, 88, 27, 132, 50, 14, 109, 128, 77, 140, 53, 119, 58, 50, 70, 74, 66, 63, 35, 94, 47, 101, 67, 120, 80, 120, 44, 82, 103, 89, 84, 86, 103, 45, 173, 138, 161, 33, 109, 61, 137, 58, 190, 101, 43, 157, 71, 38, 51, 75, 83, 29, 182, 200, 33, 64, 106, 99, 103, 114, 94, 112, 66, 40, 37, 79, 78, 73, 55, 63, 258, 70, 67, 31, 16, 48, 46, 62, 48, 109, 52, 73, 79, 136, 40, 75, 16, 52, 32, 48, 107, 95, 63, 133, 110, 78, 123, 34, 83, 82, 60, 58, 67, 42, 52, 50, 95, 95, 166, 39, 58, 73, 29, 71, 96, 30, 187, 37, 108, 18, 69, 71, 130, 103, 65, 39, 178, 90, 33, 60, 98, 79, 84, 66, 43, 119, 217, 79, 62, 163, 49, 47, 59, 57, 74, 65, 226, 66, 80, 34, 32, 79, 94, 49, 53, 34, 47, 110, 165, 68, 177, 144, 125, 75, 209, 85, 123, 153, 66, 66, 87, 63, 116, 67, 50, 51, 75, 54, 120, 77, 53, 72, 90, 58, 51, 108, 101, 109, 94, 85, 50, 86, 103, 67, 123, 139, 21, 56, 46, 50, 152, 99, 73, 78, 74, 70, 48, 68, 61, 35, 50, 110, 88, 85, 82, 116, 59, 111, 47, 71, 72, 139, 104, 57, 34, 78, 80, 63, 119, 81, 93, 127, 79, 23, 46, 77, 71, 31, 39, 131, 92, 50, 114, 80, 42, 51, 91, 70, 95, 92, 90, 60, 136, 98, 173, 74, 172, 95, 116, 66, 50, 36, 113, 46, 66, 87, 117, 101, 71, 99, 106, 101, 90, 75, 70, 38, 88, 28, 76, 66, 90, 43, 19, 19, 81, 101, 73, 136, 20, 97, 88, 46, 54, 117, 59, 61, 131, 63, 92, 200, 41, 181, 81, 76, 43, 45, 78, 41, 121, 88, 105, 111, 111, 68, 49, 45, 48, 80, 52, 50, 74, 87, 90, 74, 114, 101, 67, 99, 128, 70, 107, 58, 77, 30, 74, 151, 32, 110, 70, 33, 165, 119, 110, 113, 38, 112, 78, 125, 159, 78, 54, 69, 63, 59, 73, 61, 112, 39, 65, 134, 52, 97, 61, 79, 41, 94, 89, 66, 127, 57, 26, 228, 131, 80, 59, 43, 46, 51, 118, 62, 91, 47, 16, 114, 80, 74, 29, 173, 124, 63, 77, 98, 64, 62, 101, 37, 63, 55, 37, 71, 68, 61, 102, 108, 50, 86, 92, 78, 113, 42, 97, 78, 49, 57, 71, 82, 63, 66, 65, 64, 63, 77, 38, 41, 126, 40, 63, 86, 100, 58, 56, 101, 54, 123, 23, 77, 180, 51, 34, 62, 49, 66, 37, 68, 53, 54, 39, 43, 68, 99, 61, 74, 81, 78, 23, 44, 126, 112, 111, 83, 44, 86, 61, 58, 69, 133, 115, 27, 106, 56, 62, 83, 123, 74, 62, 94, 110, 127, 35, 89, 37, 209, 59, 92, 79, 55, 131, 104, 60, 57, 95, 74, 101, 67, 153, 26, 99, 45, 93, 165, 100, 88, 27, 132, 50, 14, 109, 128, 77, 140, 53, 119, 58, 50, 70, 74, 66, 63, 35, 94, 47, 101, 67, 120, 80, 120, 44, 82, 103, 89, 84, 86, 103, 45, 173, 138, 161, 33, 109, 61, 137, 58, 190, 101, 43, 157, 71, 38, 51, 75, 83, 29, 182, 200, 33, 64, 106, 99, 103, 114, 94, 112, 66, 40, 37, 79, 78, 73, 55, 63, 258, 70, 67, 31, 16, 48, 46, 62, 48, 109, 52, 73, 79, 136, 40, 75, 16, 52, 32, 48, 107, 95, 63, 133, 110, 78, 123, 34, 83, 82, 60, 58, 67, 42, 52, 50, 95, 95, 166, 39, 58, 73, 29, 71, 96, 30, 187, 37, 108, 18, 69, 71, 130, 103, 65, 39, 178, 90, 33, 60, 98, 79, 84, 66, 43, 119, 217, 79, 62, 163, 49, 47, 59, 57, 74, 65, 226, 66, 80, 34, 32, 79, 94, 49, 53, 34, 47, 110, 165, 68, 177, 144, 125, 75, 209, 85, 123, 153, 66, 66, 87, 63, 116, 67, 50, 51, 75, 54, 120, 77, 53, 72, 90, 58, 51, 108, 101, 109, 94, 85, 50, 86, 103, 67, 123, 139, 21, 56, 46, 50, 152, 99, 73, 78, 74, 70, 48, 68, 61, 35, 50, 110, 88, 85, 82, 116, 59, 111, 47, 71, 72, 139, 104, 57, 34]\n"
          ],
          "name": "stdout"
        }
      ]
    },
    {
      "cell_type": "markdown",
      "metadata": {
        "id": "gakBhylCQ8--"
      },
      "source": [
        "# Create a 3d array which has all docs with same length and each word represented as a vector equal to max_featuers in TF-IDF vocab"
      ]
    },
    {
      "cell_type": "code",
      "metadata": {
        "id": "_Zw0Ur5xYke8"
      },
      "source": [
        "# so now the elements with length less than 258 will have to padded with zeros. \n",
        "# bottom line is that each sentence has to be of length 258 and each word within has to be of a vector 200\n",
        "\n",
        "nn_input_box = np.zeros([X.shape[0],longest_review,200])\n",
        "\n",
        "review_count=0\n",
        "for elem in new_review_words_list: \n",
        "  #padding = longest_review - len(elem) \n",
        "\n",
        "  word_count=0\n",
        "  for word in elem: \n",
        "    index = tfidf_vocab[word]\n",
        "    tfidf_value = X[review_count,index] #note that we have used X here\n",
        "    nn_input_box[review_count, word_count, index] = tfidf_value #considered post-padding \n",
        "    word_count+=1\n",
        "\n",
        "  review_count+=1"
      ],
      "execution_count": 12,
      "outputs": []
    },
    {
      "cell_type": "markdown",
      "metadata": {
        "id": "Rnox4SB5RPQu"
      },
      "source": [
        "# Train and Validation set loader"
      ]
    },
    {
      "cell_type": "code",
      "metadata": {
        "id": "rjFEYQaZgPfI",
        "outputId": "f4390ff0-5fc8-4b66-f408-e3fee555877f",
        "colab": {
          "base_uri": "https://localhost:8080/"
        }
      },
      "source": [
        "# now we have both X and Y ready\n",
        "# X will now be nn_input_box and Y has been defined above while computing TF-IDF\n",
        "\n",
        "from sklearn.model_selection import train_test_split\n",
        "\n",
        "nn_input_box = nn_input_box.astype(np.float32)\n",
        "Y=Y.astype(np.float32)\n",
        "\n",
        "X_train,Y_train, X_val, Y_val=train_test_split(nn_input_box, Y, test_size=0.2, random_state=333)\n",
        "print(X_train.shape,Y_train.shape, X_val.shape, Y_val.shape)"
      ],
      "execution_count": 13,
      "outputs": [
        {
          "output_type": "stream",
          "text": [
            "(800, 258, 200) (200, 258, 200) (800, 2) (200, 2)\n"
          ],
          "name": "stdout"
        }
      ]
    },
    {
      "cell_type": "code",
      "metadata": {
        "id": "SCed7-DNuAw2"
      },
      "source": [
        "# time to get train and validation LOADER \n",
        "import torch\n",
        "import torch.nn as nn\n",
        "import torch.nn.functional as F\n",
        "from torch.utils.data import TensorDataset, DataLoader\n",
        "import torch.optim as optim \n",
        "from torch.autograd import Variable\n",
        "device = torch.device(\"cpu\")\n",
        "\n",
        "batch_size = 32 \n",
        "\n",
        "training_dataset = TensorDataset(torch.from_numpy(X_train), torch.from_numpy(X_val))\n",
        "validation_dataset = TensorDataset(torch.from_numpy(Y_train), torch.from_numpy(Y_val))\n",
        "\n",
        "train_loader = DataLoader(training_dataset, shuffle=True, batch_size = batch_size)\n",
        "val_loader = DataLoader(validation_dataset, shuffle=True, batch_size = batch_size)"
      ],
      "execution_count": 14,
      "outputs": []
    },
    {
      "cell_type": "markdown",
      "metadata": {
        "id": "FClBQQQBRZNC"
      },
      "source": [
        "# RNN architecture "
      ]
    },
    {
      "cell_type": "code",
      "metadata": {
        "id": "QBzh_gHnvw2d",
        "outputId": "a279e479-a1bb-4a67-c00e-44d66ebe4b0a",
        "colab": {
          "base_uri": "https://localhost:8080/"
        }
      },
      "source": [
        "# define the RNN architecture \n",
        "\n",
        "from __future__ import unicode_literals, print_function, division\n",
        "\n",
        "\n",
        "class Model(nn.Module):\n",
        "  def __init__(self, input_size, output_size, hidden_size, n_layers):\n",
        "    super().__init__()\n",
        "    self.hidden_size = hidden_size\n",
        "    self.n_layers = n_layers\n",
        "\n",
        "    self.rnn = nn.RNN(input_size,hidden_size,n_layers,batch_first=True) # rnn layer\n",
        "    self.fc1 = nn.Linear(hidden_size,output_size) # rnn output (y_t) --> output (y'_t)\n",
        "    self.fc2 = nn.Linear(output_size,2) #the output from the last time period ->sentiment prediction\n",
        "\n",
        "  def forward(self,x, hidden):\n",
        "    batch_size = x.size()[0]\n",
        "\n",
        "    hidden = self.init_hidden(batch_size)\n",
        "\n",
        "    rnn_out,hidden = self.rnn(x,hidden)\n",
        "    rnn_out = self.fc1(rnn_out)\n",
        "    last_out = rnn_out[:,-1,:].view(batch_size,-1)\n",
        "    out = F.softmax(self.fc2(last_out))\n",
        "    return out,hidden\n",
        "\n",
        "  def init_hidden(self,batch_size):\n",
        "    hidden = torch.zeros(self.n_layers, batch_size, self.hidden_size)\n",
        "    return hidden\n",
        "\n",
        "\n",
        "model = Model(200,32,256,3) #200 is the vocab size selected above (max_features within TF-IDF)\n",
        "print(model)"
      ],
      "execution_count": 15,
      "outputs": [
        {
          "output_type": "stream",
          "text": [
            "Model(\n",
            "  (rnn): RNN(200, 256, num_layers=3, batch_first=True)\n",
            "  (fc1): Linear(in_features=256, out_features=32, bias=True)\n",
            "  (fc2): Linear(in_features=32, out_features=2, bias=True)\n",
            ")\n"
          ],
          "name": "stdout"
        }
      ]
    },
    {
      "cell_type": "markdown",
      "metadata": {
        "id": "XIp21hj9Rhdq"
      },
      "source": [
        "# Training and Validation "
      ]
    },
    {
      "cell_type": "code",
      "metadata": {
        "id": "e_wSXkhi6jp0",
        "outputId": "1dc1523b-0f19-4f93-e29e-9412d33e291c",
        "colab": {
          "base_uri": "https://localhost:8080/"
        }
      },
      "source": [
        "# the output means that each batch will have 16 instances, with every instance represented by 258 words and each word is a vector of 200\n",
        "for batch_idx, batch in enumerate(train_loader): \n",
        "  inputs,targets = batch[0].to(dtype=torch.float), batch[1].to(dtype=torch.float)\n",
        "  print(inputs.shape)"
      ],
      "execution_count": 16,
      "outputs": [
        {
          "output_type": "stream",
          "text": [
            "torch.Size([32, 258, 200])\n",
            "torch.Size([32, 258, 200])\n",
            "torch.Size([32, 258, 200])\n",
            "torch.Size([32, 258, 200])\n",
            "torch.Size([32, 258, 200])\n",
            "torch.Size([32, 258, 200])\n",
            "torch.Size([32, 258, 200])\n",
            "torch.Size([32, 258, 200])\n",
            "torch.Size([32, 258, 200])\n",
            "torch.Size([32, 258, 200])\n",
            "torch.Size([32, 258, 200])\n",
            "torch.Size([32, 258, 200])\n",
            "torch.Size([32, 258, 200])\n",
            "torch.Size([32, 258, 200])\n",
            "torch.Size([32, 258, 200])\n",
            "torch.Size([32, 258, 200])\n",
            "torch.Size([32, 258, 200])\n",
            "torch.Size([32, 258, 200])\n",
            "torch.Size([32, 258, 200])\n",
            "torch.Size([32, 258, 200])\n",
            "torch.Size([32, 258, 200])\n",
            "torch.Size([32, 258, 200])\n",
            "torch.Size([32, 258, 200])\n",
            "torch.Size([32, 258, 200])\n",
            "torch.Size([32, 258, 200])\n"
          ],
          "name": "stdout"
        }
      ]
    },
    {
      "cell_type": "code",
      "metadata": {
        "id": "MrFLNdBMzjRQ",
        "outputId": "e5179ef3-7a72-4bda-a464-eb25c3cf3e0e",
        "colab": {
          "base_uri": "https://localhost:8080/"
        }
      },
      "source": [
        "#hyperparameters\n",
        "epochs = 10\n",
        "learning_rate = 0.001\n",
        "optimizer = optim.Adam(model.parameters(), lr=learning_rate, weight_decay=1e-5)\n",
        "criterion = nn.CrossEntropyLoss()\n",
        "device = torch.device('cuda:0' if torch.cuda.is_available() else 'cpu')\n",
        "if torch.cuda.is_available():\n",
        "  model.to(device)\n",
        "\n",
        "train_loss_list=[]\n",
        "val_loss_list=[]\n",
        "\n",
        "for epoch in range(epochs):\n",
        "  model.train()\n",
        "\n",
        "  #initialize h0,c0 (hidden state)\n",
        "  h = model.init_hidden(batch_size)\n",
        "\n",
        "  running_loss=0.0\n",
        "\n",
        "  for batch_idx, batch in enumerate(train_loader): \n",
        "\n",
        "    inputs,targets = batch[0].to(device,dtype=torch.float), batch[1].to(device,dtype=torch.float) \n",
        "\n",
        "    optimizer.zero_grad()\n",
        "        \n",
        "    outputs,h = model(inputs,h)\n",
        "    loss = criterion(outputs, torch.max(targets,1)[1])\n",
        "        \n",
        "    loss.backward()\n",
        "        \n",
        "    optimizer.step()\n",
        "        \n",
        "    running_loss += loss.item()\n",
        "\n",
        "  train_loss_list.append(running_loss/(batch_idx+1))\n",
        "\n",
        "\n",
        "  model.eval()\n",
        "  val_running_loss = 0.0\n",
        "\n",
        "\n",
        "  with torch.no_grad():\n",
        "    for batch_idx_new, batch in enumerate(val_loader): \n",
        "      inputs,targets = batch[0].to(device,dtype=torch.float), batch[1].to(device,dtype=torch.float)\n",
        "\n",
        "      outputs,h = model(inputs,h)\n",
        "\n",
        "      loss = criterion(outputs, torch.max(targets,1)[1])\n",
        "\n",
        "      val_running_loss += loss.item()\n",
        "\n",
        "  val_loss_list.append(val_running_loss/(batch_idx_new+1))\n",
        "\n",
        "  print('Epoch:{}/{}'.format(epoch+1,epochs), # epoch is the index of epoch\n",
        "        'Train Loss:{:.5f}'.format(running_loss/(batch_idx+1)),\n",
        "        'Val Loss:{:.5f}'.format(val_running_loss/(batch_idx_new+1)))\n",
        "  print('\\n')"
      ],
      "execution_count": 21,
      "outputs": [
        {
          "output_type": "stream",
          "text": [
            "/usr/local/lib/python3.6/dist-packages/ipykernel_launcher.py:24: UserWarning: Implicit dimension choice for softmax has been deprecated. Change the call to include dim=X as an argument.\n"
          ],
          "name": "stderr"
        },
        {
          "output_type": "stream",
          "text": [
            "Epoch:1/10 Train Loss:0.69502 Val Loss:0.69643\n",
            "\n",
            "\n",
            "Epoch:2/10 Train Loss:0.69529 Val Loss:0.69318\n",
            "\n",
            "\n",
            "Epoch:3/10 Train Loss:0.69350 Val Loss:0.69327\n",
            "\n",
            "\n",
            "Epoch:4/10 Train Loss:0.69340 Val Loss:0.69313\n",
            "\n",
            "\n",
            "Epoch:5/10 Train Loss:0.69330 Val Loss:0.69316\n",
            "\n",
            "\n",
            "Epoch:6/10 Train Loss:0.69353 Val Loss:0.69351\n",
            "\n",
            "\n",
            "Epoch:7/10 Train Loss:0.69325 Val Loss:0.69316\n",
            "\n",
            "\n",
            "Epoch:8/10 Train Loss:0.69337 Val Loss:0.69294\n",
            "\n",
            "\n",
            "Epoch:9/10 Train Loss:0.69326 Val Loss:0.69304\n",
            "\n",
            "\n",
            "Epoch:10/10 Train Loss:0.69357 Val Loss:0.69312\n",
            "\n",
            "\n"
          ],
          "name": "stdout"
        }
      ]
    },
    {
      "cell_type": "code",
      "metadata": {
        "id": "iNq3G0zm-qtm",
        "outputId": "4b66e3a1-2e43-44ef-d992-98d6e8437a92",
        "colab": {
          "base_uri": "https://localhost:8080/",
          "height": 622
        }
      },
      "source": [
        "import matplotlib.pyplot as plt\n",
        "fig=plt.figure(figsize=(20, 10))\n",
        "plt.plot(np.arange(1, epochs+1), train_loss_list, label=\"Train loss\")\n",
        "plt.plot(np.arange(1, epochs+1), val_loss_list, label=\"Validation loss\")\n",
        "plt.xlabel('Loss')\n",
        "plt.ylabel('Epochs')\n",
        "plt.title(\"Loss Plots\")\n",
        "plt.legend(loc='upper right')\n",
        "plt.show()"
      ],
      "execution_count": 22,
      "outputs": [
        {
          "output_type": "display_data",
          "data": {
            "image/png": "[encoded data removed]",
            "text/plain": [
              "<Figure size 1440x720 with 1 Axes>"
            ]
          },
          "metadata": {
            "tags": [],
            "needs_background": "light"
          }
        }
      ]
    }
  ]
}